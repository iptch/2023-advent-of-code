{
 "cells": [
  {
   "cell_type": "code",
   "execution_count": null,
   "id": "initial_id",
   "metadata": {
    "ExecuteTime": {
     "end_time": "2023-12-01T08:51:45.407294300Z",
     "start_time": "2023-12-01T08:51:45.394583900Z"
    }
   },
   "outputs": [],
   "source": [
    "import re\n",
    "\n",
    "input = open(\"day1_input.txt\", \"r\")\n",
    "data = input.read()\n",
    "input_list = data.split(\"\\n\")"
   ]
  },
  {
   "cell_type": "code",
   "execution_count": null,
   "id": "32ac9b17237ff601",
   "metadata": {
    "ExecuteTime": {
     "end_time": "2023-12-01T08:51:48.189161500Z",
     "start_time": "2023-12-01T08:51:48.175307800Z"
    }
   },
   "outputs": [],
   "source": [
    "numdict = {'one': '1', 'two': '2', 'three': '3', 'four': '4', 'five': '5', 'six': '6', 'seven': '7', 'eight': '8', 'nine': '9'}\n",
    "sum = 0\n",
    "\n",
    "for i in input_list:\n",
    "    line = i\n",
    "    for key, value in numdict.items():\n",
    "        pos = line.find(key) +2\n",
    "        if pos > 1:\n",
    "            line = line[:pos] + value + line[pos:]\n",
    "        pos = line.rfind(key) +2\n",
    "        if pos > 1:\n",
    "            line = line[:pos] + value + line[pos:]\n",
    "\n",
    "    line_stripped = re.sub(r\"^[a-z]+|[a-z]+$\", '', line)\n",
    "\n",
    "    number = line_stripped[0] + line_stripped[-1]\n",
    "    print(number, \"\\t\", i)\n",
    "    sum+= int(number)\n",
    "    \n",
    "print(sum)\n",
    "\n",
    "\n"
   ]
  }
 ],
 "metadata": {
  "kernelspec": {
   "display_name": "Python 3",
   "language": "python",
   "name": "python3"
  },
  "language_info": {
   "codemirror_mode": {
    "name": "ipython",
    "version": 2
   },
   "file_extension": ".py",
   "mimetype": "text/x-python",
   "name": "python",
   "nbconvert_exporter": "python",
   "pygments_lexer": "ipython2",
   "version": "2.7.6"
  }
 },
 "nbformat": 4,
 "nbformat_minor": 5
}
