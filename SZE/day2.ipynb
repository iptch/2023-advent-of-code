{
 "cells": [
  {
   "cell_type": "code",
   "execution_count": null,
   "id": "initial_id",
   "metadata": {
    "ExecuteTime": {
     "end_time": "2023-12-02T09:09:55.077801200Z",
     "start_time": "2023-12-02T09:09:55.051409800Z"
    }
   },
   "outputs": [],
   "source": [
    "input2 = open(\"day2_input.txt\", \"r\")\n",
    "data = input2.read()\n",
    "input_list = data.split(\"\\n\")"
   ]
  },
  {
   "cell_type": "code",
   "execution_count": null,
   "id": "e9e079e3578a7a91",
   "metadata": {},
   "outputs": [],
   "source": [
    "game_nr_sum = 0\n",
    "power_sum = 0\n",
    "\n",
    "for line in input_list:\n",
    "    game = line.split(': ')[0]\n",
    "    sets = line.split(': ')[1].split('; ')\n",
    "    game_nr = int(game.split(' ')[1])\n",
    "\n",
    "    min_red = min_green = min_blue = 0\n",
    "\n",
    "    valid = True\n",
    "    for set in sets:\n",
    "        cubes = {}\n",
    "        for game_round in set.split(', '):\n",
    "            count = int(game_round.split(' ')[0])\n",
    "            color = game_round.split(' ')[1]\n",
    "    \n",
    "            cubes[color] = cubes.get(color, 0) + count\n",
    "            \n",
    "        # AoC Part 1\n",
    "        if cubes.get('red', 0)>12 or cubes.get('green', 0)>13 or cubes.get('blue', 0)>14:\n",
    "            valid = False\n",
    "            \n",
    "        # AoC Part 2\n",
    "        if cubes.get('red', 0) > min_red:\n",
    "            min_red = cubes['red']\n",
    "        if cubes.get('green', 0) > min_green:\n",
    "            min_green = cubes['green']\n",
    "        if cubes.get('blue', 0) > min_blue:\n",
    "            min_blue = cubes['blue']\n",
    "                        \n",
    "    power_per_game = min_red * min_green * min_blue\n",
    "    power_sum += power_per_game\n",
    "\n",
    "    print(f\"{game_nr}: {power_per_game} | {power_sum} \\t {sets}\")\n",
    "    if valid is True:\n",
    "        game_nr_sum += game_nr\n",
    "        print(game_nr_sum)\n",
    "\n",
    "print(\"----------------\")\n",
    "print(f\"AoC Part 1: {game_nr_sum}\")\n",
    "print(f\"AoC Part 2: {power_sum}\")\n"
   ]
  }
 ],
 "metadata": {
  "kernelspec": {
   "display_name": "Python 3",
   "language": "python",
   "name": "python3"
  },
  "language_info": {
   "codemirror_mode": {
    "name": "ipython",
    "version": 2
   },
   "file_extension": ".py",
   "mimetype": "text/x-python",
   "name": "python",
   "nbconvert_exporter": "python",
   "pygments_lexer": "ipython2",
   "version": "2.7.6"
  }
 },
 "nbformat": 4,
 "nbformat_minor": 5
}
