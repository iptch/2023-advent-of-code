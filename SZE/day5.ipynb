{
 "cells": [
  {
   "cell_type": "code",
   "execution_count": null,
   "id": "initial_id",
   "metadata": {
    "ExecuteTime": {
     "end_time": "2023-12-05T08:24:23.944906400Z",
     "start_time": "2023-12-05T08:24:23.896891600Z"
    }
   },
   "outputs": [],
   "source": [
    "import pandas as pd\n",
    "\n",
    "seed_to_soil_df = pd.read_csv('day5_seed_to_soil.txt', sep=' ', header=0)\n",
    "soil_to_fertilizer_df = pd.read_csv('day5_soil_to_fertilizer.txt', sep=' ', header=0)\n",
    "fertilizer_to_water_df = pd.read_csv('day5_fertilizer_to_water.txt', sep=' ', header=0)\n",
    "water_to_light_df = pd.read_csv('day5_water_to_light.txt', sep=' ', header=0)\n",
    "light_to_temperature_df = pd.read_csv('day5_light_to_temperature.txt', sep=' ', header=0)\n",
    "temperature_to_humidity_df = pd.read_csv('day5_temperature_to_humidity.txt', sep=' ', header=0)\n",
    "humidity_to_location_df = pd.read_csv('day5_humidity_to_location.txt', sep=' ', header=0)\n",
    "\n",
    "mappings = [seed_to_soil_df, soil_to_fertilizer_df, fertilizer_to_water_df, water_to_light_df, light_to_temperature_df, temperature_to_humidity_df, humidity_to_location_df]"
   ]
  },
  {
   "cell_type": "code",
   "execution_count": null,
   "id": "6ef9c9b2527bc04",
   "metadata": {},
   "outputs": [],
   "source": [
    "seeds = [int(i) for i in \"1972667147 405592018 1450194064 27782252 348350443 61862174 3911195009 181169206 626861593 138786487 2886966111 275299008 825403564 478003391 514585599 6102091 2526020300 15491453 3211013652 546191739\".split(\" \")]\n",
    "\n",
    "min_location = 5000000000\n",
    "\n",
    "for seed in seeds:\n",
    "    print(f\"=========={seed}==========\") \n",
    "    result_id = seed\n",
    "    for mapping_df in mappings:\n",
    "        mapping_df['dist_to_source'] = result_id - mapping_df.source_start\n",
    "        mapping_df['range_minus_dist'] = mapping_df.range - mapping_df.dist_to_source\n",
    "    \n",
    "        temp_result_df = mapping_df[(mapping_df.dist_to_source >= 0) & (mapping_df.range_minus_dist > 0)]\n",
    "        if len(temp_result_df) == 0:\n",
    "            result_id = result_id\n",
    "        elif len(temp_result_df) == 1:        \n",
    "            result_id = temp_result_df['dest_start'].iloc[0] + temp_result_df['dist_to_source'].iloc[0]\n",
    "        else:\n",
    "            raise ValueError(f\"temp_result_df has length {len(temp_result_df)} instead of 1 / 0.\")\n",
    "        print(f\"Input-Nr. {seed} maps to Result-ID {result_id}.\")\n",
    "        \n",
    "    print(f\"Location: {result_id}\")\n",
    "    \n",
    "    if result_id < min_location:\n",
    "        min_location = result_id\n",
    "\n",
    "print(f\"Minimal location is: {min_location}\")"
   ]
  },
  {
   "cell_type": "code",
   "execution_count": null,
   "id": "52108e73b0e5f5f3",
   "metadata": {},
   "outputs": [],
   "source": [
    "def check_seed(seed_nr):\n",
    "    result_id = seed_nr\n",
    "    available_range = 5000000000\n",
    "    for mapping_df in mappings:\n",
    "        mapping_df['dist_to_source'] = result_id - mapping_df.source_start\n",
    "        mapping_df['range_minus_dist'] = mapping_df.range - mapping_df.dist_to_source\n",
    "\n",
    "        temp_result_df = mapping_df[(mapping_df.dist_to_source >= 0) & (mapping_df.range_minus_dist > 0)]\n",
    "        if len(temp_result_df) == 0:\n",
    "            result_id = result_id\n",
    "        elif len(temp_result_df) == 1:\n",
    "            result_id = temp_result_df['dest_start'].iloc[0] + temp_result_df['dist_to_source'].iloc[0]\n",
    "            if temp_result_df['range_minus_dist'].iloc[0] < available_range:\n",
    "                available_range = temp_result_df['range_minus_dist'].iloc[0]\n",
    "        else:\n",
    "            raise ValueError(f\"temp_result_df has length {len(temp_result_df)} instead of 1 / 0.\")\n",
    "\n",
    "    current_range_lasts_until_seed_nr = seed + available_range\n",
    "\n",
    "    return (result_id, current_range_lasts_until_seed_nr)\n",
    "\n",
    "\n",
    "seeds = [(1972667147, 405592018), (1450194064, 27782252), (348350443, 61862174), (3911195009, 181169206), (626861593, 138786487), (2886966111, 275299008), (825403564, 478003391), (514585599, 6102091), (2526020300, 15491453), (3211013652, 546191739)]\n",
    "min_location = 5000000000\n",
    "\n",
    "for seed_start_range_tuple in seeds:\n",
    "    seed_start = seed_start_range_tuple[0]\n",
    "    seed_stop = seed_start + seed_start_range_tuple[1]\n",
    "    print(f\"Processing seed-range: {seed_start} - {seed_stop}\")\n",
    "    \n",
    "    seed = seed_start\n",
    "    current_range_lasts_until_seed_nr = 0\n",
    "    while seed < seed_stop:\n",
    "        location, current_range_lasts_until_seed_nr = check_seed(seed)\n",
    "        print(f\"Seed-Nr. {seed} has location: {location}; lasts until seed-nr {current_range_lasts_until_seed_nr}\")\n",
    "    \n",
    "        if location < min_location:\n",
    "            min_location = location\n",
    "    \n",
    "        seed = current_range_lasts_until_seed_nr    \n",
    "    \n",
    "\n",
    "print(f\"Minimal location is: {min_location}\")"
   ]
  }
 ],
 "metadata": {
  "kernelspec": {
   "display_name": "Python 3",
   "language": "python",
   "name": "python3"
  },
  "language_info": {
   "codemirror_mode": {
    "name": "ipython",
    "version": 2
   },
   "file_extension": ".py",
   "mimetype": "text/x-python",
   "name": "python",
   "nbconvert_exporter": "python",
   "pygments_lexer": "ipython2",
   "version": "2.7.6"
  }
 },
 "nbformat": 4,
 "nbformat_minor": 5
}
