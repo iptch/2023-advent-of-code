{
 "cells": [
  {
   "cell_type": "code",
   "execution_count": null,
   "id": "initial_id",
   "metadata": {
    "ExecuteTime": {
     "end_time": "2023-12-04T08:53:05.382956700Z",
     "start_time": "2023-12-04T08:53:05.360792600Z"
    }
   },
   "outputs": [],
   "source": [
    "import re\n",
    "\n",
    "input = open(\"day3_input.txt\", \"r\")\n",
    "data = input.read()\n",
    "input_list_from_file = data.split(\"\\n\")"
   ]
  },
  {
   "cell_type": "code",
   "execution_count": null,
   "id": "32ac9b17237ff601",
   "metadata": {},
   "outputs": [],
   "source": [
    "empty_line = '.' * len(input_list[0])\n",
    "input_list = [empty_line] + input_list + [empty_line]\n",
    "\n",
    "special_chars_regex = re.compile(r\"\\*|%|\\$|&|=|@|\\+|#|-|/\")\n",
    "\n",
    "sum = 0\n",
    "for line_nr, line in enumerate(input_list):\n",
    "    if line_nr == 0 or line_nr == len(input_list)-1:\n",
    "        continue\n",
    "    prev_line = '.' + input_list[line_nr-1] + '.'\n",
    "    line = '.' + line + '.'\n",
    "    next_line = '.' + input_list[line_nr+1] + '.'\n",
    "\n",
    "    numbers = re.finditer(r\"\\d+\", line)\n",
    "    for n in numbers:\n",
    "        adjacent_chars_prev_line = prev_line[(n.span()[0]-1):(n.span()[1]+1)]\n",
    "        adjacent_chars_this_line = line[(n.span()[0]-1):(n.span()[1]+1)]\n",
    "        adjacent_chars_next_line = next_line[(n.span()[0]-1):(n.span()[1]+1)]\n",
    "        adjacent_chars = adjacent_chars_prev_line + adjacent_chars_this_line + adjacent_chars_next_line\n",
    "        \n",
    "        if special_chars_regex.search(adjacent_chars):\n",
    "            sum += int(n.group())\n",
    "            print(\"TRUE \", adjacent_chars, \"\\t\", sum)\n",
    "        else:\n",
    "            print(adjacent_chars)\n",
    "\n",
    "print(sum)"
   ]
  },
  {
   "cell_type": "code",
   "execution_count": null,
   "id": "4f1553fbf5c3d07f",
   "metadata": {
    "ExecuteTime": {
     "end_time": "2023-12-04T09:17:59.431291300Z",
     "start_time": "2023-12-04T09:17:59.394139400Z"
    }
   },
   "outputs": [],
   "source": [
    "empty_line = '.' * len(input_list_from_file[0])\n",
    "input_list = [empty_line] + input_list_from_file + [empty_line]\n",
    "\n",
    "gear_numbers = {}\n",
    "\n",
    "def find_gears(adjacent_chars, line_nr, num):\n",
    "    \"\"\"\n",
    "    For a given number (num.group()), find all stars (*) in the adjacent_chars (adjacent_chars is a substring of line 'line_nr' starting at num.start())\n",
    "    \"\"\"\n",
    "    for match in re.finditer(r\"\\*\", adjacent_chars):\n",
    "        pos = num.start() + match.start()\n",
    "        star_id = 1000*(line_nr) + pos\n",
    "        print(f\"Line {line_nr}, Position {pos} (i.e. star-id {star_id}): {num.group()}\")\n",
    "\n",
    "        gear_numbers[star_id] = gear_numbers.get(star_id, []) + [num.group()]\n",
    "    \n",
    "for line_nr, line in enumerate(input_list):\n",
    "    # First and last line contain only \"......\"\n",
    "    if line_nr == 0 or line_nr == len(input_list)-1:\n",
    "        continue\n",
    "        \n",
    "    prev_line = '.' + input_list[line_nr-1] + '.'\n",
    "    line = '.' + line + '.'\n",
    "    next_line = '.' + input_list[line_nr+1] + '.'\n",
    "\n",
    "    print(f\"{line_nr}: {line}\")\n",
    "    \n",
    "    # Do for all numbers in **current** line\n",
    "    numbers = re.finditer(r\"\\d+\", line)\n",
    "    for n in numbers:\n",
    "        # For number n, find all close-by stars within **last** line and store them in dictionary\n",
    "        find_gears(prev_line[(n.span()[0]-1):(n.span()[1]+1)], line_nr-1, n)\n",
    "        # For number n, find all close-by stars within **current** line and store them in dictionary\n",
    "        find_gears(line[(n.span()[0]-1):(n.span()[1]+1)], line_nr, n)\n",
    "        # For number n, find all close-by stars within **next** line and store them in dictionary\n",
    "        find_gears(next_line[(n.span()[0]-1):(n.span()[1]+1)], line_nr+1, n)\n",
    "\n",
    "gear_ratio_sum = 0\n",
    "for star_id, gear_number in gear_numbers.items():\n",
    "    print(star_id, gear_number)\n",
    "    if len(gear_number) == 2:\n",
    "        gear_ratio = int(gear_number[0]) * int(gear_number[1])\n",
    "        gear_ratio_sum += gear_ratio\n",
    "\n",
    "print(gear_ratio_sum)"
   ]
  }
 ],
 "metadata": {
  "kernelspec": {
   "display_name": "Python 3",
   "language": "python",
   "name": "python3"
  },
  "language_info": {
   "codemirror_mode": {
    "name": "ipython",
    "version": 2
   },
   "file_extension": ".py",
   "mimetype": "text/x-python",
   "name": "python",
   "nbconvert_exporter": "python",
   "pygments_lexer": "ipython2",
   "version": "2.7.6"
  }
 },
 "nbformat": 4,
 "nbformat_minor": 5
}
