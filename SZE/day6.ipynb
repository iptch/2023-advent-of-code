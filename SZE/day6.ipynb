{
 "cells": [
  {
   "cell_type": "code",
   "execution_count": null,
   "id": "initial_id",
   "metadata": {},
   "outputs": [],
   "source": [
    "# Part 1\n",
    "\n",
    "races = [(47, 400), (98, 1213), (66, 1011), (98, 1540)]\n",
    "#races = [(7, 9), (15, 40), (30, 200)]\n",
    "\n",
    "result = 1\n",
    "\n",
    "for race in races:\n",
    "    av_time = race[0]\n",
    "    av_distance = race[1]\n",
    "    print(\"=============\")\n",
    "\n",
    "    num_of_ways = 0\n",
    "    for load_time in range(av_time):\n",
    "        travel_time = av_time - load_time\n",
    "        speed = load_time\n",
    "        travel_distance = load_time*travel_time\n",
    "        print(f\"{load_time}: {speed}mm/ms for {travel_time}ms --> {travel_distance}\")\n",
    "        \n",
    "        if travel_distance>av_distance:\n",
    "            num_of_ways += 1\n",
    "            \n",
    "    if num_of_ways >= 0:\n",
    "        result *= num_of_ways\n",
    "    print(num_of_ways)\n",
    "\n",
    "print(result)\n"
   ]
  },
  {
   "cell_type": "code",
   "execution_count": null,
   "id": "4bb1c95a5b0580dd",
   "metadata": {},
   "outputs": [],
   "source": [
    "# Part 2\n",
    "\n",
    "import math\n",
    "\n",
    "a = -47986698\n",
    "b = 400121310111540\n",
    "\n",
    "x_1 = -a/2 + math.sqrt(math.pow(-a/2, 2)-b)\n",
    "x_2 = -a/2 - math.sqrt(math.pow(-a/2, 2)-b)\n",
    "\n",
    "print(x_1)\n",
    "print(x_2)\n",
    "\n",
    "print(math.floor(x_1)-math.ceil(x_2)+1)"
   ]
  }
 ],
 "metadata": {
  "kernelspec": {
   "display_name": "Python 3",
   "language": "python",
   "name": "python3"
  },
  "language_info": {
   "codemirror_mode": {
    "name": "ipython",
    "version": 2
   },
   "file_extension": ".py",
   "mimetype": "text/x-python",
   "name": "python",
   "nbconvert_exporter": "python",
   "pygments_lexer": "ipython2",
   "version": "2.7.6"
  }
 },
 "nbformat": 4,
 "nbformat_minor": 5
}
