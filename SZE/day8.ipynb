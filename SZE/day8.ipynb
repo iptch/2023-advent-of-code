{
 "cells": [
  {
   "cell_type": "code",
   "execution_count": null,
   "id": "initial_id",
   "metadata": {
    "ExecuteTime": {
     "end_time": "2023-12-08T10:35:29.320710Z",
     "start_time": "2023-12-08T10:35:29.274458100Z"
    }
   },
   "outputs": [],
   "source": [
    "import pandas as pd\n",
    "import math\n",
    "\n",
    "pd.set_option('display.max_rows', 1005)\n",
    "pd.set_option('display.max_columns', 10)\n",
    "pd.set_option('display.max_colwidth', 255)\n",
    "\n",
    "instructions = 'LRRLRRLRLLLRLLRLRRLRRLRRLRRLLRLLRRRLRRRLRRLLLRLRRLLLLLRRRLRRRLRRRLRRLRRLRLRLRLRLRRRLRRRLRRRLRRLRRLRLRLRRLLRRRLLRRLRRLRRRLRLLRRLRRLRRRLRRRLRRRLRRRLRRLLLRRRLLRRLLLRRLRRLLRRLRRRLRRLRRLRRRLRRLLLRLRRRLLRRRLRLRRLRLRLRLRRRLRLRLRRLLRRLRRLRRLRRLLRLRLRRRLRRLRRLRRLRLRRRLRRLRLLRRLLRRLRLLLRLLRRRLRLRLLRRRR'\n",
    "\n",
    "dir_map = pd.read_csv('day8_input.txt', sep=',', header=0)"
   ]
  },
  {
   "cell_type": "code",
   "execution_count": null,
   "id": "461af5412fca4f6d",
   "metadata": {},
   "outputs": [],
   "source": [
    "dir_map['ind_left'] = None\n",
    "dir_map['ind_right'] = None\n",
    "for ind in dir_map.index:\n",
    "    dir_left = dir_map['left'][ind]\n",
    "    dir_right = dir_map['right'][ind]\n",
    "    row_l = dir_map[dir_map['key'] == dir_left].index[0]\n",
    "    row_r = dir_map[dir_map['key'] == dir_right].index[0]\n",
    "    dir_map.at[ind, 'ind_left'] = row_l\n",
    "    dir_map.at[ind, 'ind_right'] = row_r\n",
    "    \n",
    "print(dir_map)"
   ]
  },
  {
   "cell_type": "code",
   "execution_count": null,
   "id": "c93e66a2ef9e1302",
   "metadata": {},
   "outputs": [],
   "source": [
    "# Part 1\n",
    "\n",
    "next_idx = 251\n",
    "steps = 0\n",
    "\n",
    "while not next_idx == 629:\n",
    "    current_idx = next_idx\n",
    "    direction = instructions[steps%len(instructions)]\n",
    "    current_row = dir_map.iloc[current_idx]\n",
    "    next_options = (current_row['ind_left'], current_row['ind_right'])\n",
    "\n",
    "    if direction == 'L':\n",
    "        next_idx = next_options[0]\n",
    "    elif direction == 'R':\n",
    "        next_idx = next_options[1]\n",
    "    if next_idx == 0 and steps%len(instructions) == 0:\n",
    "        print(\"Back at the beginning, there must be an error!!! ==========================\")\n",
    "    if steps % 10000 == 0:\n",
    "        print(f\"Step {steps}. Next: {next_idx}\")\n",
    "    steps += 1\n",
    "    \n",
    "print(f\"Required num of steps: {steps}\")"
   ]
  },
  {
   "cell_type": "code",
   "execution_count": null,
   "id": "7503e9c9a84d7a6d",
   "metadata": {},
   "outputs": [],
   "source": [
    "# Part 2\n",
    "import math\n",
    "# Assumption: One '..A' value belongs to exactly one '..Z' value, and does not pass at any other '..Z'-Values on its itinerary.\n",
    "\n",
    "start_values = [25, 251, 269, 396, 471, 571]    # Index of all keys ending in 'A'\n",
    "round_sizes = []\n",
    "\n",
    "for next_idx in start_values:\n",
    "    steps = 0\n",
    "    while not next_idx in [237, 314, 371, 431, 554, 629]:    # Index of all keys ending in 'Z'\n",
    "        current_idx = next_idx\n",
    "        direction = instructions[steps % len(instructions)]\n",
    "        current_row = dir_map.loc[current_idx]\n",
    "        next_options = (current_row['ind_left'], current_row['ind_right'])\n",
    "    \n",
    "        if direction == 'L':\n",
    "            next_idx = next_options[0]\n",
    "        elif direction == 'R':\n",
    "            next_idx = next_options[1]\n",
    "        if next_idx in [237, 314, 371, 431, 554, 629]:\n",
    "            print(f\"Target-idx ({next_idx}: {dir_map.loc[next_idx, 'key']}) is reached at step {steps}\")\n",
    "            \n",
    "        steps += 1\n",
    "        \n",
    "    round_sizes.append(steps)\n",
    "\n",
    "print(f\"The 6 combinations of ..A need {round_sizes} steps to get to their target ..Z\")\n",
    "print(f\"The 'kleinstes gemeinsames Vielfache' is {math.lcm(*round_sizes)}\")\n"
   ]
  }
 ],
 "metadata": {
  "kernelspec": {
   "display_name": "Python 3",
   "language": "python",
   "name": "python3"
  },
  "language_info": {
   "codemirror_mode": {
    "name": "ipython",
    "version": 2
   },
   "file_extension": ".py",
   "mimetype": "text/x-python",
   "name": "python",
   "nbconvert_exporter": "python",
   "pygments_lexer": "ipython2",
   "version": "2.7.6"
  }
 },
 "nbformat": 4,
 "nbformat_minor": 5
}
