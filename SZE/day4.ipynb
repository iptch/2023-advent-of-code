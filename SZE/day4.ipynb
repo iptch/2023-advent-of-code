{
 "cells": [
  {
   "cell_type": "code",
   "execution_count": null,
   "id": "initial_id",
   "metadata": {
    "ExecuteTime": {
     "end_time": "2023-12-04T15:33:29.007210400Z",
     "start_time": "2023-12-04T15:33:28.968378800Z"
    }
   },
   "outputs": [],
   "source": [
    "input = open(\"day4_input.txt\", \"r\")\n",
    "data = input.read()\n",
    "input_list = data.split(\"\\n\")"
   ]
  },
  {
   "cell_type": "code",
   "execution_count": null,
   "id": "27d1aee8a4af6945",
   "metadata": {},
   "outputs": [],
   "source": [
    "score_sum = 0\n",
    "\n",
    "for line in input_list:\n",
    "    line = line.replace('  ', ' ').replace('  ', ' ')\n",
    "    game = line.split(': ')[0]\n",
    "    game_nr = int(game.split(' ')[1].lstrip())\n",
    "    winning_numbers = [int(w) for w in line.split(': ')[1].split(' | ')[0].split(' ')]\n",
    "    my_numbers = [int(m) for m in line.split(': ')[1].split(' | ')[1].split(' ')]\n",
    "    \n",
    "    score = 0\n",
    "    for m in my_numbers:\n",
    "        if m in winning_numbers:\n",
    "            print(m)\n",
    "            score *= 2\n",
    "            if score == 0:\n",
    "                score = 1\n",
    "        \n",
    "    score_sum += score\n",
    "    print(f\"{game_nr}: {winning_numbers} / {my_numbers} : {score}\")\n",
    "\n",
    "print(score_sum)"
   ]
  },
  {
   "cell_type": "code",
   "execution_count": null,
   "id": "e9e079e3578a7a91",
   "metadata": {},
   "outputs": [],
   "source": [
    "list_of_cards = [1] * 220\n",
    "\n",
    "for line in input_list:\n",
    "    line = line.replace('  ', ' ').replace('  ', ' ')\n",
    "    game = line.split(': ')[0]\n",
    "    game_nr = int(game.split(' ')[1].lstrip())\n",
    "    winning_numbers = [int(w) for w in line.split(': ')[1].split(' | ')[0].split(' ')]\n",
    "    my_numbers = [int(m) for m in line.split(': ')[1].split(' | ')[1].split(' ')]\n",
    "\n",
    "    score = 0\n",
    "    for m in my_numbers:\n",
    "        if m in winning_numbers:\n",
    "            score += 1\n",
    "    for s in range(score):\n",
    "        if game_nr + s <= 219:\n",
    "            list_of_cards[game_nr + s+1 -1] += list_of_cards[game_nr - 1]\n",
    "        \n",
    "    print(f\"{game_nr} | {score}: {list_of_cards}\")\n",
    "\n",
    "num_of_cards = 0\n",
    "for count in list_of_cards:\n",
    "    num_of_cards += count\n",
    "    \n",
    "print(num_of_cards)\n"
   ]
  }
 ],
 "metadata": {
  "kernelspec": {
   "display_name": "Python 3",
   "language": "python",
   "name": "python3"
  },
  "language_info": {
   "codemirror_mode": {
    "name": "ipython",
    "version": 2
   },
   "file_extension": ".py",
   "mimetype": "text/x-python",
   "name": "python",
   "nbconvert_exporter": "python",
   "pygments_lexer": "ipython2",
   "version": "2.7.6"
  }
 },
 "nbformat": 4,
 "nbformat_minor": 5
}
