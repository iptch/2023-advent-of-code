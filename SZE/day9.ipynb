{
 "cells": [
  {
   "cell_type": "code",
   "execution_count": null,
   "id": "initial_id",
   "metadata": {
    "ExecuteTime": {
     "end_time": "2023-12-09T10:33:19.484128700Z",
     "start_time": "2023-12-09T10:33:19.467612100Z"
    }
   },
   "outputs": [],
   "source": [
    "input = open(\"day9_input.txt\", \"r\")\n",
    "data = input.read()\n",
    "measures = data.split(\"\\n\")"
   ]
  },
  {
   "cell_type": "code",
   "execution_count": null,
   "id": "4679b556a5d9d747",
   "metadata": {},
   "outputs": [],
   "source": [
    "# Part 1\n",
    "def get_dif(dif_list):\n",
    "    next_dif = [j-i for i, j in zip(dif_list[:-1], dif_list[1:])]\n",
    "    if all(v==0 for v in next_dif):\n",
    "        return dif_list[-1]\n",
    "    else:\n",
    "        return dif_list[-1] + get_dif(next_dif)\n",
    "\n",
    "total = 0\n",
    "for measure in measures:\n",
    "    measure_list = [int(m) for m in measure.split(\" \")]\n",
    "    next_value = get_dif(measure_list)\n",
    "    print(f\"{measure_list} -> {next_value}\")\n",
    "    total += next_value\n",
    "    \n",
    "print(f\"Total sum: {total}\")"
   ]
  },
  {
   "cell_type": "code",
   "execution_count": null,
   "id": "c5dbac50627a9ed5",
   "metadata": {},
   "outputs": [],
   "source": [
    "# Part 2\n",
    "def get_dif(dif_list):\n",
    "    next_dif = [j-i for i, j in zip(dif_list[:-1], dif_list[1:])]\n",
    "    if all(v==0 for v in next_dif):\n",
    "        return dif_list[0]\n",
    "    else:\n",
    "        return dif_list[0] - get_dif(next_dif)\n",
    "\n",
    "total = 0\n",
    "for measure in measures:\n",
    "    measure_list = [int(m) for m in measure.split(\" \")]\n",
    "    prev_value = get_dif(measure_list)\n",
    "\n",
    "    print(f\"{prev_value} -> {measure_list}\")\n",
    "    total += prev_value\n",
    "\n",
    "print(f\"Total sum: {total}\")"
   ]
  }
 ],
 "metadata": {
  "kernelspec": {
   "display_name": "Python 3",
   "language": "python",
   "name": "python3"
  },
  "language_info": {
   "codemirror_mode": {
    "name": "ipython",
    "version": 2
   },
   "file_extension": ".py",
   "mimetype": "text/x-python",
   "name": "python",
   "nbconvert_exporter": "python",
   "pygments_lexer": "ipython2",
   "version": "2.7.6"
  }
 },
 "nbformat": 4,
 "nbformat_minor": 5
}
