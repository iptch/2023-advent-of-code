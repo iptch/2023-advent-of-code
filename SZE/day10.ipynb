{
 "cells": [
  {
   "cell_type": "code",
   "execution_count": null,
   "id": "initial_id",
   "metadata": {
    "ExecuteTime": {
     "end_time": "2023-12-10T13:12:47.369085100Z",
     "start_time": "2023-12-10T13:12:47.335884500Z"
    }
   },
   "outputs": [],
   "source": [
    "import numpy as np\n",
    "import re\n",
    "np.set_printoptions(threshold=np.inf)\n",
    "\n",
    "map_2d = []\n",
    "with open(\"day10_input.txt\", 'r') as f:\n",
    "    for line in f.readlines():\n",
    "        without_lineending = re.sub(r'\\n', '', line)\n",
    "        map_2d.append(list(without_lineending))\n",
    "\n",
    "map_2d = np.array(map_2d)\n",
    "processed = np.zeros_like(map_2d)\n",
    "processed[:] = 0"
   ]
  },
  {
   "cell_type": "code",
   "execution_count": null,
   "id": "1d3eba6f0552d400",
   "metadata": {},
   "outputs": [],
   "source": [
    "# Part 1\n",
    "\n",
    "def get_dir(letter, incoming_dir):\n",
    "    \"\"\"\n",
    "    Return outgoing_dir\n",
    "    \"\"\"\n",
    "    match letter:\n",
    "        case '|':\n",
    "            return 'S' if incoming_dir=='S' else 'N'\n",
    "        case '-':\n",
    "            return 'E' if incoming_dir=='E' else 'W'\n",
    "        case 'L':\n",
    "            return 'E' if incoming_dir=='S' else 'N'\n",
    "        case 'J':\n",
    "            return 'W' if incoming_dir=='S' else 'N'\n",
    "        case '7':\n",
    "            return 'W' if incoming_dir=='N' else 'S'\n",
    "        case 'F':\n",
    "            return 'E' if incoming_dir=='N' else 'S'\n",
    "\n",
    "\n",
    "def get_next(index, direction):\n",
    "    \"\"\"\n",
    "    Returns index and direction of next letter\n",
    "    \"\"\"\n",
    "    y = index[0]\n",
    "    x = index[1]\n",
    "    \n",
    "    next_index = (0,0)\n",
    "    if direction == 'N':\n",
    "        next_index = (y-1, x)\n",
    "    elif direction == 'E':\n",
    "        next_index = (y, x+1)\n",
    "    elif direction == 'S':\n",
    "        next_index = (y+1, x)\n",
    "    elif direction == 'W':\n",
    "        next_index = (y, x-1)\n",
    "\n",
    "    next_letter = map_2d[next_index]\n",
    "    return next_index, get_dir(next_letter, direction)\n",
    "\n",
    "index = [(i, j) for i, row in enumerate(map_2d) for j, el in enumerate(row) if el == 'S'][0]\n",
    "direction = 'S'\n",
    "num_of_steps = 0\n",
    "while map_2d[index] != 'S' or num_of_steps < 1:\n",
    "    processed[index] = map_2d[index]\n",
    "    index, direction = get_next(index, direction)\n",
    "    num_of_steps += 1\n",
    "#    print(f\"{num_of_steps}: {map_2d[index[0], index[1]]} ({index}) leading to {direction}\")\n",
    "\n",
    "print(f\"Furthest point: {num_of_steps/2}\")"
   ]
  },
  {
   "cell_type": "code",
   "execution_count": null,
   "id": "a5cc9e5ebb1d3b84",
   "metadata": {},
   "outputs": [],
   "source": [
    "# Part 2\n",
    "sum_within_loop = 0\n",
    "for index, tile in np.ndenumerate(processed):\n",
    "    if tile == '0':\n",
    "        left_of_tile = ''.join(processed[index[0]][:index[1]]).lstrip('0').rstrip('0')\n",
    "        left_pipes = re.sub(r'L-*7|F-*J|S', '|', left_of_tile).count('|')\n",
    "        \n",
    "        if left_pipes%2 == 1:\n",
    "            sum_within_loop += 1\n",
    "            \n",
    "print(f\"Number of tiles within loop: {sum_within_loop}\")"
   ]
  }
 ],
 "metadata": {
  "kernelspec": {
   "display_name": "Python 3",
   "language": "python",
   "name": "python3"
  },
  "language_info": {
   "codemirror_mode": {
    "name": "ipython",
    "version": 2
   },
   "file_extension": ".py",
   "mimetype": "text/x-python",
   "name": "python",
   "nbconvert_exporter": "python",
   "pygments_lexer": "ipython2",
   "version": "2.7.6"
  }
 },
 "nbformat": 4,
 "nbformat_minor": 5
}
