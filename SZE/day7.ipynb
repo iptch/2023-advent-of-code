{
 "cells": [
  {
   "cell_type": "code",
   "execution_count": null,
   "id": "initial_id",
   "metadata": {
    "ExecuteTime": {
     "end_time": "2023-12-07T17:04:39.505393900Z",
     "start_time": "2023-12-07T17:04:39.470586100Z"
    }
   },
   "outputs": [],
   "source": [
    "from collections import Counter\n",
    "import re\n",
    "import pandas as pd\n",
    "pd.set_option('display.max_rows', 1005)\n",
    "\n",
    "hands = pd.read_csv('day7_input.txt', sep=' ', header=0)"
   ]
  },
  {
   "cell_type": "code",
   "execution_count": null,
   "id": "6cf80adc818e505",
   "metadata": {
    "ExecuteTime": {
     "end_time": "2023-12-07T17:05:46.835042600Z",
     "start_time": "2023-12-07T17:05:46.793316200Z"
    }
   },
   "outputs": [],
   "source": [
    "def order_string(string):\n",
    "    return [item for items, c in Counter(string).most_common() for item in [items] * c]\n",
    "\n",
    "def get_type(ordered_list: []):\n",
    "    char = ordered_list[0]\n",
    "    length = len(ordered_list)\n",
    "    if len(set(ordered_list)) == 1:     # 5 of a kind\n",
    "        return 7\n",
    "    if ordered_list.count(char) == length-1:   # 4 of a kind\n",
    "        return 6\n",
    "    if ordered_list.count(char) == length-2 and ordered_list.count(ordered_list[length-2]) == 2:    # Full House\n",
    "        return 5\n",
    "    if ordered_list.count(char) == length-2:    # 3 of a kind\n",
    "        return 4\n",
    "    if ordered_list.count(char) == length-3 and ordered_list.count(ordered_list[length-3]) == 2:   # 2 pair\n",
    "        return 3\n",
    "    if ordered_list.count(char) == length-3:    # 1 pair\n",
    "        return 2\n",
    "    return 1"
   ]
  },
  {
   "cell_type": "code",
   "execution_count": null,
   "id": "76e2b35ade6131a8",
   "metadata": {},
   "outputs": [],
   "source": [
    "# Task 1\n",
    "\n",
    "def get_strength(char):\n",
    "    if char == 'A':     return 14\n",
    "    if char == 'K':     return 13\n",
    "    if char == 'Q':     return 12\n",
    "    if char == 'J':     return 11\n",
    "    if char == 'T':     return 10\n",
    "    return int(char)\n",
    "\n",
    "def get_score(hand: str):\n",
    "    hand_type = get_type(order_string(hand))\n",
    "    score = 1*get_strength(hand[4]) + 15*get_strength(hand[3]) + 225*get_strength(hand[2]) + 3375*get_strength(hand[1]) + 50625*get_strength(hand[0]) + 759375*hand_type\n",
    "    return score\n",
    "            \n",
    "\n",
    "hands['hands_sorted'] = hands['hand'].apply(order_string)\n",
    "hands['type'] = hands['hands_sorted'].apply(get_type)\n",
    "hands['score'] = hands['hand'].apply(get_score)\n",
    "\n",
    "hands = hands.sort_values(by=['score'], ignore_index=True)\n",
    "\n",
    "hands['index'] = hands.index+1\n",
    "hands['winning'] = hands['index'] * hands['bid']\n",
    "\n",
    "print(hands)\n",
    "\n",
    "print(hands['winning'].sum())"
   ]
  },
  {
   "cell_type": "code",
   "execution_count": null,
   "id": "b1724317d17d6dbd",
   "metadata": {},
   "outputs": [],
   "source": [
    "def get_joker_type(hand: str):\n",
    "    hand = re.sub(r'J', '', hand)\n",
    "    filtered_list = order_string(hand)\n",
    "    if len(filtered_list) == 5:         # No Joker\n",
    "        return get_type(filtered_list)\n",
    "    max_type = 0\n",
    "    for joker_number in range(5-len(filtered_list)):\n",
    "        max_type = 0\n",
    "        max_type_char = ''\n",
    "        for x in ['A', 'K', 'Q', 'T', '9', '8', '7', '6', '5', '4', '3', '2']:\n",
    "            hand_type = get_type(order_string(hand+x))\n",
    "            if hand_type > max_type:\n",
    "                max_type = hand_type\n",
    "                max_type_char = x\n",
    "        hand = hand+max_type_char\n",
    "    return max_type\n",
    "                \n",
    "def get_strength(char):\n",
    "    if char == 'A':     return 14\n",
    "    if char == 'K':     return 13\n",
    "    if char == 'Q':     return 12\n",
    "    if char == 'J':     return 2\n",
    "    if char == 'T':     return 11\n",
    "    return int(char)+1\n",
    "\n",
    "def get_score(hand: str):\n",
    "    hand_type = get_joker_type(hand)\n",
    "    score = 1*get_strength(hand[4]) + 15*get_strength(hand[3]) + 225*get_strength(hand[2]) + 3375*get_strength(hand[1]) + 50625*get_strength(hand[0]) + 759375*hand_type\n",
    "    return score\n",
    "\n",
    "\n",
    "hands['hands_sorted'] = hands['hand'].apply(order_string)\n",
    "hands['type'] = hands['hand'].apply(get_joker_type)\n",
    "hands['score'] = hands['hand'].apply(get_score)\n",
    "\n",
    "hands = hands.sort_values(by=['score'], ignore_index=True)\n",
    "\n",
    "hands['index'] = hands.index+1\n",
    "hands['winning'] = hands['index'] * hands['bid']\n",
    "\n",
    "print(hands)\n",
    "\n",
    "print(hands['winning'].sum())"
   ]
  }
 ],
 "metadata": {
  "kernelspec": {
   "display_name": "Python 3",
   "language": "python",
   "name": "python3"
  },
  "language_info": {
   "codemirror_mode": {
    "name": "ipython",
    "version": 2
   },
   "file_extension": ".py",
   "mimetype": "text/x-python",
   "name": "python",
   "nbconvert_exporter": "python",
   "pygments_lexer": "ipython2",
   "version": "2.7.6"
  }
 },
 "nbformat": 4,
 "nbformat_minor": 5
}
